{
 "cells": [
  {
   "cell_type": "code",
   "execution_count": 1,
   "metadata": {},
   "outputs": [
    {
     "name": "stdout",
     "output_type": "stream",
     "text": [
      "[INFO] PDF files: ['../data/pdf/Childrens2021.pdf', '../data/pdf/Wine2024.pdf', '../data/pdf/Lunch2024.pdf']\n"
     ]
    }
   ],
   "source": [
    "import glob\n",
    "\n",
    "pdf_paths = glob.glob('../data/pdf/*.pdf')\n",
    "print('[INFO] PDF files:', pdf_paths)"
   ]
  },
  {
   "cell_type": "code",
   "execution_count": 2,
   "metadata": {},
   "outputs": [
    {
     "name": "stdout",
     "output_type": "stream",
     "text": [
      "[INFO] PDF content for ../data/pdf/Childrens2021.pdf\n",
      "\n",
      " 600 S. Brea Blvd. | Brea, CA 92821\n",
      "(10 years and under)\n",
      "These Prices are valid only in combination with a\n",
      "regularly priced adult entree purchase.\n",
      "Spaghetti with Tomato Sauce ...............................6.95\n",
      "Spaghetti with Meat Sauce ..................................7.25\n",
      "Spaghetti with Meat Ball .......................................7.25\n",
      "Shell Macaroni with Meat Sauce .........................7.25\n",
      "Ravioli (Cheese or Beef) with Tomato Sauce ......7.25\n",
      "Lasagne with Tomato Sauce ................................7.50\n",
      "Chicken Tenders (2)\n",
      "Served with a side of Spaghetti .................7.50\n",
      "Baked Pasta Shells with Cheese and Meat Sauce ..7.50\n",
      "INCLUDES:\n",
      "Salad with Choice of Dressing and Garlic Bread\n",
      "or\n",
      "Ministrone Soup and Garlic Bread\n",
      "and\n",
      "Ice Cream for Dessert\n",
      "Add a Small Drink for $1.25\n",
      "\n"
     ]
    }
   ],
   "source": [
    "import pdfplumber\n",
    "\n",
    "def pdf_to_text(pdf_path):\n",
    "    text = \"\"\n",
    "    with pdfplumber.open(pdf_path) as pdf:\n",
    "        for page in pdf.pages:\n",
    "            text += page.extract_text() + \"\\n\"\n",
    "    return text\n",
    "\n",
    "pdf_text = pdf_to_text(pdf_paths[0])\n",
    "print(f'[INFO] PDF content for {pdf_paths[0]}\\n\\n', pdf_text)"
   ]
  },
  {
   "cell_type": "code",
   "execution_count": 3,
   "metadata": {},
   "outputs": [
    {
     "name": "stdout",
     "output_type": "stream",
     "text": [
      "[INFO] Content after chunking:\n",
      "['600 S. Brea Blvd. | Brea, CA 92821\\n'\n",
      " '(10 years and under)\\n'\n",
      " 'These Prices are valid only in combination with a\\n'\n",
      " 'regularly priced adult entree purchase.\\n'\n",
      " 'Spaghetti with Tomato Sauce ...............................6.95\\n'\n",
      " 'Spaghetti with Meat Sauce ..................................7.25\\n'\n",
      " 'Spaghetti with Meat Ball .......................................7.25\\n'\n",
      " 'Shell Macaroni with Meat Sauce .........................7.25\\n'\n",
      " 'Ravioli (Cheese or Beef) with Tomato Sauce ......7.25\\n'\n",
      " 'Lasagne with Tomato Sauce ................................7.50\\n'\n",
      " 'Chicken Tenders (2)\\n'\n",
      " 'Served with a side of Spaghetti .................7.50\\n'\n",
      " 'Baked Pasta Shells with Cheese and Meat Sauce ..7.50\\n'\n",
      " 'INCLUDES:\\n'\n",
      " 'Salad with Choice of Dressing and Garlic Bread\\n'\n",
      " 'or\\n'\n",
      " 'Ministrone Soup and Garlic Bread\\n'\n",
      " 'and\\n'\n",
      " 'Ice Cream for Dessert\\n'\n",
      " 'Add a Small Drink for $1.25\\n']\n"
     ]
    }
   ],
   "source": [
    "from pprint import pprint\n",
    "\n",
    "def chunk_text(text, chunk_size=5000, overlap=400):\n",
    "    chunks = []\n",
    "    start = 0\n",
    "    while start < len(text):\n",
    "        end = start + chunk_size\n",
    "        chunks.append(text[start:end])\n",
    "        start += chunk_size - overlap\n",
    "    return chunks\n",
    "\n",
    "chunks = chunk_text(pdf_text)\n",
    "print('[INFO] Content after chunking:')\n",
    "pprint(chunks)"
   ]
  },
  {
   "cell_type": "markdown",
   "metadata": {},
   "source": [
    "### Data standardization"
   ]
  },
  {
   "cell_type": "code",
   "execution_count": 4,
   "metadata": {},
   "outputs": [],
   "source": [
    "STANDARDIZATION_PROMPT = \"\"\"I'm going to provide some text describing various menu items. Convert this text into a JSON array of objects, where each object represents a specific menu item with the following structure:\n",
    "```json\n",
    "{\n",
    "    \"item\": \"Name of the specific dish, appetizer, entrée, drink, etc.\",\n",
    "    \"description\": \"Detailed description of the menu item.\",\n",
    "    \"category\": \"Decide appropriate category such as Children's Menu, Appetizer, Entrée, Dessert, Drink, etc. The category could be multiple.\",\n",
    "    \"price\": Numeric value representing the item's price (e.g., 6.95),\n",
    "    \"additional_info\": \"Additional details included with the item, such as sides, drinks, or desserts. If none, leave blank or omit this field.\"\n",
    "}\n",
    "```\n",
    "\n",
    "Important Guidelines:\n",
    "- Specific Items Only: The item names must represent specific dishes, entrées, appetizers, or drinks, NOT general categories.\n",
    "- Complete Entries Only: If the provided data chunk contains incomplete or unclear information at the beginning or end, skip these incomplete entries to ensure accuracy.\n",
    "- Accurate Categories: Assign each item an appropriate category based on the data provided or inferred from context.\n",
    "- Pricing: Include accurate numerical pricing data whenever available; if pricing information isn't provided, omit the field.\n",
    "- Additional Info: Clearly include any mentioned sides, salads, soups, desserts, beverages, or extras that come with the item. If no additional info is provided, leave this field blank or omit it entirely.\n",
    "\n",
    "NOTE: \"Category\" should be the a 2-4 categories/common search terms describing the item, for example (but not limited to) -> dessert, side, chicken, sandwich, cocktail, drink, burger, salad, etc etc -> Try to use multiple categories/descriptors\n",
    "THIS DATA IS CHUNKED SO IF THE DATA AT THE BEGINNING OR END (FOR TITLE OR DESCRIPTION) SEEMS INCOMPLETE COMPARED TO THE REST OF THE ENTRIES, JUST SKIP IT\n",
    "```\n",
    "\"\"\""
   ]
  },
  {
   "cell_type": "code",
   "execution_count": 5,
   "metadata": {},
   "outputs": [],
   "source": [
    "from langchain_ollama import ChatOllama\n",
    "\n",
    "llm = ChatOllama(model='deepseek-r1:14b', temperature=0)"
   ]
  },
  {
   "cell_type": "code",
   "execution_count": 6,
   "metadata": {},
   "outputs": [],
   "source": [
    "import json\n",
    "import re\n",
    "\n",
    "all_results = []\n",
    "\n",
    "def clean_json_from_response(response):\n",
    "    json_match = re.search(r'```(?:json)?\\s*([\\s\\S]*?)```', response)\n",
    "    if json_match:\n",
    "        json_str = json_match.group(1)\n",
    "    else:\n",
    "        json_str = response\n",
    "    \n",
    "    # Clean any thinking tags that might be present\n",
    "    json_str = re.sub(r'<think>[\\s\\S]*?</think>', '', json_str)\n",
    "    \n",
    "    # Try to parse JSON\n",
    "    try:\n",
    "        return json.loads(json_str)\n",
    "    except json.JSONDecodeError:\n",
    "        print(f\"Failed to parse JSON from response: {response[:100]}...\")\n",
    "        return None\n",
    "\n",
    "menus = []\n",
    "for chunk in chunks:\n",
    "    response = llm.invoke([\n",
    "        (\n",
    "            \"system\",\n",
    "            STANDARDIZATION_PROMPT,\n",
    "        ),\n",
    "        (\"human\", f\"ONLY RESPOND WITH THE JSON OBJECT AND NOTHING ELSE. CONVERT THE FULL DATA. DO NOT TRUNCATE OR STOP EARLY. FULL TEXT! HERE IS THE DATA I WANT YOU TO CONVERT: {chunk}\"),\n",
    "    ])\n",
    "\n",
    "    result = clean_json_from_response(response.content)\n",
    "    menus.extend(result)"
   ]
  },
  {
   "cell_type": "code",
   "execution_count": 7,
   "metadata": {},
   "outputs": [
    {
     "name": "stdout",
     "output_type": "stream",
     "text": [
      "[INFO] Saved 8 menu items to ../data/json/Childrens2021.jsonl\n"
     ]
    }
   ],
   "source": [
    "import os\n",
    "import json\n",
    "\n",
    "# Create directory if it doesn't exist\n",
    "os.makedirs(\"../data/json\", exist_ok=True)\n",
    "fname = pdf_paths[0].split('/')[-1].split('.')[0]\n",
    "\n",
    "# Write the menus data to a jsonl file\n",
    "with open(f\"../data/json/{fname}.jsonl\", \"w\") as f:\n",
    "    for item in menus:\n",
    "        f.write(json.dumps(item) + \"\\n\")\n",
    "\n",
    "print(f\"[INFO] Saved {len(menus)} menu items to ../data/json/{fname}.jsonl\")"
   ]
  },
  {
   "cell_type": "code",
   "execution_count": null,
   "metadata": {},
   "outputs": [],
   "source": []
  }
 ],
 "metadata": {
  "kernelspec": {
   "display_name": "venv",
   "language": "python",
   "name": "python3"
  },
  "language_info": {
   "codemirror_mode": {
    "name": "ipython",
    "version": 3
   },
   "file_extension": ".py",
   "mimetype": "text/x-python",
   "name": "python",
   "nbconvert_exporter": "python",
   "pygments_lexer": "ipython3",
   "version": "3.12.2"
  }
 },
 "nbformat": 4,
 "nbformat_minor": 2
}
