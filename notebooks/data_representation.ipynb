{
 "cells": [
  {
   "cell_type": "code",
   "execution_count": 4,
   "metadata": {},
   "outputs": [
    {
     "data": {
      "text/plain": [
       "['../data/clojurians/2017/merged-clojurians-clojure.xml',\n",
       " '../data/clojurians/2019/merged-clojurians-clojure.xml',\n",
       " '../data/clojurians/2018/merged-clojurians-clojure.xml',\n",
       " '../data/racket/2017/merged-racket-general.xml',\n",
       " '../data/racket/2019/merged-racket-general.xml',\n",
       " '../data/racket/2018/merged-racket-general.xml',\n",
       " '../data/pythondev/2017/merged-pythondev-help.xml',\n",
       " '../data/pythondev/2019/merged-pythondev-help.xml',\n",
       " '../data/pythondev/2018/merged-pythondev-help.xml',\n",
       " '../data/elmlang/2017/merged-elmlang-beginners.xml',\n",
       " '../data/elmlang/2017/merged-elmlang-general.xml',\n",
       " '../data/elmlang/2019/merged-elmlang-beginners.xml',\n",
       " '../data/elmlang/2019/merged-elmlang-general.xml',\n",
       " '../data/elmlang/2018/merged-elmlang-beginners.xml',\n",
       " '../data/elmlang/2018/merged-elmlang-general.xml']"
      ]
     },
     "execution_count": 4,
     "metadata": {},
     "output_type": "execute_result"
    }
   ],
   "source": [
    "import glob\n",
    "\n",
    "data_path = glob.glob('../data/**/**/*.xml')\n",
    "data_path"
   ]
  },
  {
   "cell_type": "code",
   "execution_count": 5,
   "metadata": {},
   "outputs": [
    {
     "ename": "ModuleNotFoundError",
     "evalue": "No module named 'pandas'",
     "output_type": "error",
     "traceback": [
      "\u001b[31m---------------------------------------------------------------------------\u001b[39m",
      "\u001b[31mModuleNotFoundError\u001b[39m                       Traceback (most recent call last)",
      "\u001b[36mCell\u001b[39m\u001b[36m \u001b[39m\u001b[32mIn[5]\u001b[39m\u001b[32m, line 1\u001b[39m\n\u001b[32m----> \u001b[39m\u001b[32m1\u001b[39m \u001b[38;5;28;01mimport\u001b[39;00m\u001b[38;5;250m \u001b[39m\u001b[34;01mpandas\u001b[39;00m\u001b[38;5;250m \u001b[39m\u001b[38;5;28;01mas\u001b[39;00m\u001b[38;5;250m \u001b[39m\u001b[34;01mpd\u001b[39;00m\n\u001b[32m      2\u001b[39m \u001b[38;5;28;01mimport\u001b[39;00m\u001b[38;5;250m \u001b[39m\u001b[34;01mnumpy\u001b[39;00m\u001b[38;5;250m \u001b[39m\u001b[38;5;28;01mas\u001b[39;00m\u001b[38;5;250m \u001b[39m\u001b[34;01mnp\u001b[39;00m\n\u001b[32m      4\u001b[39m group_1 = pd.read_xml(data_path[\u001b[32m0\u001b[39m])\n",
      "\u001b[31mModuleNotFoundError\u001b[39m: No module named 'pandas'"
     ]
    }
   ],
   "source": [
    "import pandas as pd\n",
    "import numpy as np\n",
    "\n",
    "group_1 = pd.read_xml(data_path[0])\n",
    "group_1"
   ]
  },
  {
   "cell_type": "code",
   "execution_count": null,
   "metadata": {},
   "outputs": [],
   "source": []
  }
 ],
 "metadata": {
  "kernelspec": {
   "display_name": "venv",
   "language": "python",
   "name": "python3"
  },
  "language_info": {
   "codemirror_mode": {
    "name": "ipython",
    "version": 3
   },
   "file_extension": ".py",
   "mimetype": "text/x-python",
   "name": "python",
   "nbconvert_exporter": "python",
   "pygments_lexer": "ipython3",
   "version": "3.12.2"
  }
 },
 "nbformat": 4,
 "nbformat_minor": 2
}
