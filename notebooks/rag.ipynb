{
 "cells": [
  {
   "cell_type": "code",
   "execution_count": 1,
   "metadata": {},
   "outputs": [
    {
     "name": "stderr",
     "output_type": "stream",
     "text": [
      "/Users/michaeleco/Documents/Github/project-avery/venv/lib/python3.12/site-packages/tqdm/auto.py:21: TqdmWarning: IProgress not found. Please update jupyter and ipywidgets. See https://ipywidgets.readthedocs.io/en/stable/user_install.html\n",
      "  from .autonotebook import tqdm as notebook_tqdm\n"
     ]
    }
   ],
   "source": [
    "from unstructured.partition.pdf import partition_pdf\n",
    "\n",
    "partitions = partition_pdf(\n",
    "    filename='../data/Lunch2024.pdf',\n",
    "    max_characters=10000,\n",
    "    new_after_n_chars=6000\n",
    ")"
   ]
  },
  {
   "cell_type": "code",
   "execution_count": 2,
   "metadata": {},
   "outputs": [
    {
     "data": {
      "text/plain": [
       "[<unstructured.documents.elements.Text at 0x3063e4d10>,\n",
       " <unstructured.documents.elements.Title at 0x3073d5130>,\n",
       " <unstructured.documents.elements.NarrativeText at 0x30744f800>,\n",
       " <unstructured.documents.elements.Title at 0x30745a300>,\n",
       " <unstructured.documents.elements.NarrativeText at 0x30745a6f0>,\n",
       " <unstructured.documents.elements.Title at 0x30745b470>,\n",
       " <unstructured.documents.elements.Title at 0x30745b7d0>,\n",
       " <unstructured.documents.elements.Title at 0x30745ba40>,\n",
       " <unstructured.documents.elements.Footer at 0x30745bad0>,\n",
       " <unstructured.documents.elements.Title at 0x3073840b0>,\n",
       " <unstructured.documents.elements.NarrativeText at 0x3073842c0>,\n",
       " <unstructured.documents.elements.Title at 0x307460bf0>,\n",
       " <unstructured.documents.elements.Title at 0x3073852b0>,\n",
       " <unstructured.documents.elements.Title at 0x3073857f0>,\n",
       " <unstructured.documents.elements.NarrativeText at 0x307386390>,\n",
       " <unstructured.documents.elements.ListItem at 0x307386750>,\n",
       " <unstructured.documents.elements.Title at 0x3073867e0>,\n",
       " <unstructured.documents.elements.NarrativeText at 0x307386a20>,\n",
       " <unstructured.documents.elements.NarrativeText at 0x307387500>,\n",
       " <unstructured.documents.elements.NarrativeText at 0x307314680>,\n",
       " <unstructured.documents.elements.Title at 0x307314830>,\n",
       " <unstructured.documents.elements.NarrativeText at 0x307314c80>,\n",
       " <unstructured.documents.elements.Footer at 0x307315730>,\n",
       " <unstructured.documents.elements.Footer at 0x3073157f0>,\n",
       " <unstructured.documents.elements.Footer at 0x3073158b0>]"
      ]
     },
     "execution_count": 2,
     "metadata": {},
     "output_type": "execute_result"
    }
   ],
   "source": [
    "partitions"
   ]
  },
  {
   "cell_type": "code",
   "execution_count": 3,
   "metadata": {},
   "outputs": [
    {
     "name": "stdout",
     "output_type": "stream",
     "text": [
      "UncategorizedText: Est. 2000\n",
      "-----\n",
      "Title: lunch menu\n",
      "-----\n",
      "NarrativeText: Fratellino in Italian means “little brother.” Welcome to the little brother’s restaurant, an homage to the older brothers’ teachings and support that inspired owner Cesar Lomeli to first venture out and create an Italian culinary experience in Orange County. As a restaurant, we were the little brother of the community when we started in 2000, and with your support and patronage, we grew up to be the restaurant scrupulously committed to quality that you visit today. Fratellino’s is our thanks to you and a continued promise to provide you mouthwatering food, diligent service, and not only a seat in our restaurant, but also a place in our family. The Lomeli Family\n",
      "-----\n",
      "Title: Gift Cards\n",
      "-----\n",
      "NarrativeText: A Fratellino’s Gift Card is the perfect way to say “thank you,” “happy birthday,” “congratulations,” and any other well wishes to friends, family, and coworkers. Gift cards are available in any denomination. Just let your server know that you would like to take one home today!\n",
      "-----\n",
      "Title: WWW.FRATELLINOS.COM\n",
      "-----\n",
      "Title: FratellinosItalianRestaurant\n",
      "-----\n",
      "Title: @fratellinos_Italian\n",
      "-----\n",
      "Footer: We are not responsible for lost or stolen articles. Sales tax will be added to all taxable items. We reserve the right to refuse service to anyone.\n",
      "-----\n",
      "Title: Daily Lunch Specials\n",
      "-----\n",
      "NarrativeText: Served Monday - Friday until 3pm. Includes garlic bread. Complimentary 4 oz glass of house wine upon request (must be 21 or over). Add $2.49 to include a small garden salad or minestrone soup. Spaghetti with Meat Sauce* $14.50 Spaghetti with Meatball (Beef or Chicken) Topped with marinara sauce. $14.50 Fettuccine Alfredo $14.50 • Add chicken for $3.35 Beef Lasagna with Meat Sauce* $15.50 Ravioli\n",
      "-----\n",
      "Title: 5 cheese\n",
      "-----\n",
      "Title: , beef, or spinach\n",
      "-----\n",
      "Title: ravioli with meat sauce*. $15.00\n",
      "-----\n",
      "NarrativeText: Shrimp Scampi (6), Italian or Alfredo Style $17.50 Chicken Parmigiana Breaded 4 oz chicken breast, topped with cheese, served with spaghetti and marinara sauce. $16.50\n",
      "-----\n",
      "ListItem: Marinara sauce by request.\n",
      "-----\n",
      "Title: Sandwiches\n",
      "-----\n",
      "NarrativeText: Served on a fresh roll - wheat bread available upon request. Monday - Friday, 11am to 3pm. You may add $2.49 to include a small garden salad, minestrone soup, or side of spaghetti. 7\" • 12\" Classic Italian (Torpedo) Cotto salami, mortadella, provolone cheese, lettuce, pepperoncini, mayo, and house Italian dressing†. Hot and/or spicy by request. $9.95 • $14.25 Vegetarian\n",
      "-----\n",
      "NarrativeText: Provolone cheese, crisp lettuce, artichoke hearts, red onions, tomato, pepperoncini, mayo, and dressing†. $9.95 • $14.25 Meatball (Beef or Chicken) With cheese and/or bell peppers by request. $10.25 • $14.75 Sausage With cheese and/or bell peppers by request. $10.25 • $14.75 Turkey Hickory-smoked turkey breast, cheddar cheese, lettuce, mustard, dressing†, pickles, and pepperoncini. Hot and/or spicy by request. $10.50 • $15.25 Hot Turkey (Francisco Style) Hickory-smoked turkey breast, provolone cheese, a pinch of crushed red pepper, tomato, red onions, oven-baked. Also with lettuce, pepperoncini, dressing†, and mayo. $11.50 • $16.75 Chicken Parmigiana Breaded breast of chicken oven-baked with cheese and marinara sauce. $12.50 • $17.95 Eggplant Parmigiana\n",
      "-----\n",
      "NarrativeText: Breaded sliced eggplant oven-baked with cheese and marinara sauce. $12.00• $17.00\n",
      "-----\n",
      "Title: Lunch Special of the Day\n",
      "-----\n",
      "NarrativeText: Served Monday - Friday until 3pm. Complimentary 4 oz glass of house wine upon request (must be 21 or over). $12.00 • No substitutions, please. Monday Small garden salad or minestrone with a side of penne pasta (mostaccioli) pink sauce and garlic bread. Tuesday Eggplant parmigiana with spaghetti and garlic bread. Wednesday Slice of pepperoni pizza with a side of spaghetti. Thursday Torpedo with minestrone soup or salad (choice of dressing). Friday Meatball (beef or chicken) sandwich with option to add cheese and bell pepper upon request, served with a side of spaghetti.\n",
      "-----\n",
      "Footer: Vegetarian Option\n",
      "-----\n",
      "Footer: Gluten-Free Option\n",
      "-----\n",
      "Footer: † Please be aware that our food may contain or come into contact with common allergens, such as dairy, eggs, wheat, soybeans, tree nuts, peanuts, fish, shellfish or wheat.\n",
      "-----\n"
     ]
    }
   ],
   "source": [
    "for element in partitions:\n",
    "    print(f'{element.category}: {element}')\n",
    "    print('-----')"
   ]
  },
  {
   "cell_type": "code",
   "execution_count": 4,
   "metadata": {},
   "outputs": [
    {
     "name": "stdout",
     "output_type": "stream",
     "text": [
      "['Est. 2000', 'lunch menu', 'Fratellino in Italian means “little brother.” Welcome to the little brother’s restaurant, an homage to the older brothers’ teachings and support that inspired owner Cesar Lomeli to first venture out and create an Italian culinary experience in Orange County. As a restaurant, we were the little brother of the community when we started in 2000, and with your support and patronage, we grew up to be the restaurant scrupulously committed to quality that you visit today. Fratellino’s is our thanks to you and a continued promise to provide you mouthwatering food, diligent service, and not only a seat in our restaurant, but also a place in our family. The Lomeli Family', 'Gift Cards', 'A Fratellino’s Gift Card is the perfect way to say “thank you,” “happy birthday,” “congratulations,” and any other well wishes to friends, family, and coworkers. Gift cards are available in any denomination. Just let your server know that you would like to take one home today!', 'WWW.FRATELLINOS.COM', 'FratellinosItalianRestaurant', '@fratellinos_Italian', 'We are not responsible for lost or stolen articles. Sales tax will be added to all taxable items. We reserve the right to refuse service to anyone.', 'Daily Lunch Specials', 'Served Monday - Friday until 3pm. Includes garlic bread. Complimentary 4 oz glass of house wine upon request (must be 21 or over). Add $2.49 to include a small garden salad or minestrone soup. Spaghetti with Meat Sauce* $14.50 Spaghetti with Meatball (Beef or Chicken) Topped with marinara sauce. $14.50 Fettuccine Alfredo $14.50 • Add chicken for $3.35 Beef Lasagna with Meat Sauce* $15.50 Ravioli', '5 cheese', ', beef, or spinach', 'ravioli with meat sauce*. $15.00', 'Shrimp Scampi (6), Italian or Alfredo Style $17.50 Chicken Parmigiana Breaded 4 oz chicken breast, topped with cheese, served with spaghetti and marinara sauce. $16.50', 'Marinara sauce by request.', 'Sandwiches', 'Served on a fresh roll - wheat bread available upon request. Monday - Friday, 11am to 3pm. You may add $2.49 to include a small garden salad, minestrone soup, or side of spaghetti. 7\" • 12\" Classic Italian (Torpedo) Cotto salami, mortadella, provolone cheese, lettuce, pepperoncini, mayo, and house Italian dressing†. Hot and/or spicy by request. $9.95 • $14.25 Vegetarian', 'Provolone cheese, crisp lettuce, artichoke hearts, red onions, tomato, pepperoncini, mayo, and dressing†. $9.95 • $14.25 Meatball (Beef or Chicken) With cheese and/or bell peppers by request. $10.25 • $14.75 Sausage With cheese and/or bell peppers by request. $10.25 • $14.75 Turkey Hickory-smoked turkey breast, cheddar cheese, lettuce, mustard, dressing†, pickles, and pepperoncini. Hot and/or spicy by request. $10.50 • $15.25 Hot Turkey (Francisco Style) Hickory-smoked turkey breast, provolone cheese, a pinch of crushed red pepper, tomato, red onions, oven-baked. Also with lettuce, pepperoncini, dressing†, and mayo. $11.50 • $16.75 Chicken Parmigiana Breaded breast of chicken oven-baked with cheese and marinara sauce. $12.50 • $17.95 Eggplant Parmigiana', 'Breaded sliced eggplant oven-baked with cheese and marinara sauce. $12.00• $17.00', 'Lunch Special of the Day', 'Served Monday - Friday until 3pm. Complimentary 4 oz glass of house wine upon request (must be 21 or over). $12.00 • No substitutions, please. Monday Small garden salad or minestrone with a side of penne pasta (mostaccioli) pink sauce and garlic bread. Tuesday Eggplant parmigiana with spaghetti and garlic bread. Wednesday Slice of pepperoni pizza with a side of spaghetti. Thursday Torpedo with minestrone soup or salad (choice of dressing). Friday Meatball (beef or chicken) sandwich with option to add cheese and bell pepper upon request, served with a side of spaghetti.', 'Vegetarian Option', 'Gluten-Free Option', '† Please be aware that our food may contain or come into contact with common allergens, such as dairy, eggs, wheat, soybeans, tree nuts, peanuts, fish, shellfish or wheat.']\n"
     ]
    }
   ],
   "source": [
    "texts = []\n",
    "for element in partitions:\n",
    "    texts.append(element.text)\n",
    "print(texts)"
   ]
  },
  {
   "cell_type": "code",
   "execution_count": 5,
   "metadata": {},
   "outputs": [
    {
     "name": "stderr",
     "output_type": "stream",
     "text": [
      "/var/folders/17/504r7zwd36jcb_pwxly46r940000gn/T/ipykernel_56902/2207982430.py:6: LangChainDeprecationWarning: The class `Chroma` was deprecated in LangChain 0.2.9 and will be removed in 1.0. An updated version of the class exists in the :class:`~langchain-chroma package and should be used instead. To use it run `pip install -U :class:`~langchain-chroma` and import as `from :class:`~langchain_chroma import Chroma``.\n",
      "  vectorstore = Chroma(\n"
     ]
    }
   ],
   "source": [
    "from langchain_community.vectorstores import Chroma\n",
    "from langchain_ollama.embeddings import OllamaEmbeddings\n",
    "from langchain.storage import InMemoryStore\n",
    "from langchain.retrievers.multi_vector import MultiVectorRetriever\n",
    "\n",
    "vectorstore = Chroma(\n",
    "    collection_name='test',\n",
    "    embedding_function=OllamaEmbeddings(model='nomic-embed-text'),\n",
    "    persist_directory='../data/chroma'\n",
    ")\n",
    "\n",
    "store = InMemoryStore()\n",
    "id_key = 'doc_id'\n",
    "\n",
    "retriever = MultiVectorRetriever(\n",
    "    vectorstore=vectorstore,\n",
    "    docstore=store,\n",
    "    id_key=id_key\n",
    ")"
   ]
  },
  {
   "cell_type": "code",
   "execution_count": 6,
   "metadata": {},
   "outputs": [],
   "source": [
    "from uuid import uuid4\n",
    "from langchain.schema.document import Document\n",
    "\n",
    "doc_ids = [str(uuid4()) for _ in texts]\n",
    "document_texts = [\n",
    "    Document(page_content=text, metadata={id_key: doc_ids[i]}) for i, text in enumerate(texts)\n",
    "]\n",
    "\n",
    "retriever.vectorstore.add_documents(document_texts)\n",
    "retriever.docstore.mset(list(zip(doc_ids, texts)))"
   ]
  },
  {
   "cell_type": "code",
   "execution_count": null,
   "metadata": {},
   "outputs": [],
   "source": []
  }
 ],
 "metadata": {
  "kernelspec": {
   "display_name": "venv",
   "language": "python",
   "name": "python3"
  },
  "language_info": {
   "codemirror_mode": {
    "name": "ipython",
    "version": 3
   },
   "file_extension": ".py",
   "mimetype": "text/x-python",
   "name": "python",
   "nbconvert_exporter": "python",
   "pygments_lexer": "ipython3",
   "version": "3.12.2"
  }
 },
 "nbformat": 4,
 "nbformat_minor": 2
}
